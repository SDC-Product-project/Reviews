{
 "cells": [
  {
   "cell_type": "code",
   "execution_count": 1,
   "id": "57f46d16-96e3-447b-8e22-2c469f3443dd",
   "metadata": {},
   "outputs": [],
   "source": [
    "import pandas as pd\n",
    "import dask.dataframe as dd\n",
    "import json"
   ]
  },
  {
   "cell_type": "code",
   "execution_count": 2,
   "id": "fac233cc-85ea-45e0-8d4f-10e0e5267e1f",
   "metadata": {},
   "outputs": [],
   "source": [
    "charFile = 'Characteristics_Final.csv'\n",
    "imagesFile = 'Images_Final.csv'\n",
    "reviewsFile = 'reviews.csv'\n",
    "char = dd.read_csv(charFile, blocksize=700e6)\n",
    "images = dd.read_csv(imagesFile, blocksize=700e6)\n",
    "reviews = dd.read_csv(reviewsFile, blocksize=700e6)"
   ]
  },
  {
   "cell_type": "code",
   "execution_count": 3,
   "id": "eca14608-5b3d-4d32-b819-75087b39a5a7",
   "metadata": {},
   "outputs": [
    {
     "data": {
      "text/html": [
       "<div>\n",
       "<style scoped>\n",
       "    .dataframe tbody tr th:only-of-type {\n",
       "        vertical-align: middle;\n",
       "    }\n",
       "\n",
       "    .dataframe tbody tr th {\n",
       "        vertical-align: top;\n",
       "    }\n",
       "\n",
       "    .dataframe thead th {\n",
       "        text-align: right;\n",
       "    }\n",
       "</style>\n",
       "<table border=\"1\" class=\"dataframe\">\n",
       "  <thead>\n",
       "    <tr style=\"text-align: right;\">\n",
       "      <th></th>\n",
       "      <th>review_id</th>\n",
       "      <th>result</th>\n",
       "    </tr>\n",
       "  </thead>\n",
       "  <tbody>\n",
       "    <tr>\n",
       "      <th>0</th>\n",
       "      <td>1</td>\n",
       "      <td>[{\"name\": \"Fit\", \"characteristic_id\": 1, \"valu...</td>\n",
       "    </tr>\n",
       "    <tr>\n",
       "      <th>1</th>\n",
       "      <td>2</td>\n",
       "      <td>[{\"name\": \"Fit\", \"characteristic_id\": 1, \"valu...</td>\n",
       "    </tr>\n",
       "  </tbody>\n",
       "</table>\n",
       "</div>"
      ],
      "text/plain": [
       "   review_id                                             result\n",
       "0          1  [{\"name\": \"Fit\", \"characteristic_id\": 1, \"valu...\n",
       "1          2  [{\"name\": \"Fit\", \"characteristic_id\": 1, \"valu..."
      ]
     },
     "execution_count": 3,
     "metadata": {},
     "output_type": "execute_result"
    }
   ],
   "source": [
    "char.head(2)"
   ]
  },
  {
   "cell_type": "code",
   "execution_count": 4,
   "id": "4cc536c9-f24c-4f46-b403-105689952787",
   "metadata": {},
   "outputs": [],
   "source": [
    "char = char.rename(columns={\"result\": \"char\"})"
   ]
  },
  {
   "cell_type": "code",
   "execution_count": 5,
   "id": "b4ac04e2-a40c-4551-91ee-646ecaeaf164",
   "metadata": {},
   "outputs": [],
   "source": [
    "images = images.rename(columns={\"url\": \"photos\"})\n"
   ]
  },
  {
   "cell_type": "code",
   "execution_count": 6,
   "id": "dd554c45-0e3b-4df7-9a7d-0b1dbac90961",
   "metadata": {},
   "outputs": [
    {
     "data": {
      "text/html": [
       "<div>\n",
       "<style scoped>\n",
       "    .dataframe tbody tr th:only-of-type {\n",
       "        vertical-align: middle;\n",
       "    }\n",
       "\n",
       "    .dataframe tbody tr th {\n",
       "        vertical-align: top;\n",
       "    }\n",
       "\n",
       "    .dataframe thead th {\n",
       "        text-align: right;\n",
       "    }\n",
       "</style>\n",
       "<table border=\"1\" class=\"dataframe\">\n",
       "  <thead>\n",
       "    <tr style=\"text-align: right;\">\n",
       "      <th></th>\n",
       "      <th>review_id</th>\n",
       "      <th>photos</th>\n",
       "    </tr>\n",
       "  </thead>\n",
       "  <tbody>\n",
       "    <tr>\n",
       "      <th>0</th>\n",
       "      <td>5</td>\n",
       "      <td>[\"https://images.unsplash.com/photo-1560570803...</td>\n",
       "    </tr>\n",
       "    <tr>\n",
       "      <th>1</th>\n",
       "      <td>9</td>\n",
       "      <td>[\"https://images.unsplash.com/photo-1542574621...</td>\n",
       "    </tr>\n",
       "  </tbody>\n",
       "</table>\n",
       "</div>"
      ],
      "text/plain": [
       "   review_id                                             photos\n",
       "0          5  [\"https://images.unsplash.com/photo-1560570803...\n",
       "1          9  [\"https://images.unsplash.com/photo-1542574621..."
      ]
     },
     "execution_count": 6,
     "metadata": {},
     "output_type": "execute_result"
    }
   ],
   "source": [
    "images.head(2)"
   ]
  },
  {
   "cell_type": "code",
   "execution_count": 7,
   "id": "1da4af5f-0715-4626-8083-c717d5df89e0",
   "metadata": {},
   "outputs": [
    {
     "data": {
      "text/html": [
       "<div>\n",
       "<style scoped>\n",
       "    .dataframe tbody tr th:only-of-type {\n",
       "        vertical-align: middle;\n",
       "    }\n",
       "\n",
       "    .dataframe tbody tr th {\n",
       "        vertical-align: top;\n",
       "    }\n",
       "\n",
       "    .dataframe thead th {\n",
       "        text-align: right;\n",
       "    }\n",
       "</style>\n",
       "<table border=\"1\" class=\"dataframe\">\n",
       "  <thead>\n",
       "    <tr style=\"text-align: right;\">\n",
       "      <th></th>\n",
       "      <th>id</th>\n",
       "      <th>product_id</th>\n",
       "      <th>rating</th>\n",
       "      <th>date</th>\n",
       "      <th>summary</th>\n",
       "      <th>body</th>\n",
       "      <th>recommend</th>\n",
       "      <th>reported</th>\n",
       "      <th>reviewer_name</th>\n",
       "      <th>reviewer_email</th>\n",
       "      <th>response</th>\n",
       "      <th>helpfulness</th>\n",
       "    </tr>\n",
       "  </thead>\n",
       "  <tbody>\n",
       "    <tr>\n",
       "      <th>0</th>\n",
       "      <td>1</td>\n",
       "      <td>1</td>\n",
       "      <td>5</td>\n",
       "      <td>1596080481467</td>\n",
       "      <td>This product was great!</td>\n",
       "      <td>I really did or did not like this product base...</td>\n",
       "      <td>True</td>\n",
       "      <td>False</td>\n",
       "      <td>funtime</td>\n",
       "      <td>first.last@gmail.com</td>\n",
       "      <td>&lt;NA&gt;</td>\n",
       "      <td>8</td>\n",
       "    </tr>\n",
       "    <tr>\n",
       "      <th>1</th>\n",
       "      <td>2</td>\n",
       "      <td>1</td>\n",
       "      <td>4</td>\n",
       "      <td>1610178433963</td>\n",
       "      <td>This product was ok!</td>\n",
       "      <td>I really did not like this product solely beca...</td>\n",
       "      <td>False</td>\n",
       "      <td>False</td>\n",
       "      <td>mymainstreammother</td>\n",
       "      <td>first.last@gmail.com</td>\n",
       "      <td>&lt;NA&gt;</td>\n",
       "      <td>2</td>\n",
       "    </tr>\n",
       "  </tbody>\n",
       "</table>\n",
       "</div>"
      ],
      "text/plain": [
       "   id  product_id  rating           date                  summary  \\\n",
       "0   1           1       5  1596080481467  This product was great!   \n",
       "1   2           1       4  1610178433963     This product was ok!   \n",
       "\n",
       "                                                body  recommend  reported  \\\n",
       "0  I really did or did not like this product base...       True     False   \n",
       "1  I really did not like this product solely beca...      False     False   \n",
       "\n",
       "        reviewer_name        reviewer_email response  helpfulness  \n",
       "0             funtime  first.last@gmail.com     <NA>            8  \n",
       "1  mymainstreammother  first.last@gmail.com     <NA>            2  "
      ]
     },
     "execution_count": 7,
     "metadata": {},
     "output_type": "execute_result"
    }
   ],
   "source": [
    "reviews.head(2)"
   ]
  },
  {
   "cell_type": "code",
   "execution_count": 8,
   "id": "2b5de46a-f0ce-4121-962f-4503be106a20",
   "metadata": {},
   "outputs": [],
   "source": [
    "reviewsMergedWithPhotos = dd.merge(reviews, images, left_on='id', right_on='review_id', how='left')"
   ]
  },
  {
   "cell_type": "code",
   "execution_count": 9,
   "id": "6da9cbe8-1eb3-4a01-ab97-3b78ff3de4cc",
   "metadata": {},
   "outputs": [],
   "source": [
    "reviewsMergedWithPhotosAndChar = dd.merge(reviewsMergedWithPhotos, char, left_on='id', right_on='review_id', how='left')"
   ]
  },
  {
   "cell_type": "code",
   "execution_count": 10,
   "id": "9a735d2c-95e0-45fe-9821-bf4ffaa6aacf",
   "metadata": {},
   "outputs": [],
   "source": [
    "reviewsMergedWithPhotosAndChar = reviewsMergedWithPhotosAndChar.drop(['review_id_x','review_id_y'], axis=1)\n"
   ]
  },
  {
   "cell_type": "code",
   "execution_count": 11,
   "id": "24eb2718-792d-4532-a08f-d2dab2d8588a",
   "metadata": {},
   "outputs": [
    {
     "data": {
      "text/html": [
       "<div><strong>Dask DataFrame Structure:</strong></div>\n",
       "<div>\n",
       "<style scoped>\n",
       "    .dataframe tbody tr th:only-of-type {\n",
       "        vertical-align: middle;\n",
       "    }\n",
       "\n",
       "    .dataframe tbody tr th {\n",
       "        vertical-align: top;\n",
       "    }\n",
       "\n",
       "    .dataframe thead th {\n",
       "        text-align: right;\n",
       "    }\n",
       "</style>\n",
       "<table border=\"1\" class=\"dataframe\">\n",
       "  <thead>\n",
       "    <tr style=\"text-align: right;\">\n",
       "      <th></th>\n",
       "      <th>id</th>\n",
       "      <th>product_id</th>\n",
       "      <th>rating</th>\n",
       "      <th>date</th>\n",
       "      <th>summary</th>\n",
       "      <th>body</th>\n",
       "      <th>recommend</th>\n",
       "      <th>reported</th>\n",
       "      <th>reviewer_name</th>\n",
       "      <th>reviewer_email</th>\n",
       "      <th>response</th>\n",
       "      <th>helpfulness</th>\n",
       "      <th>photos</th>\n",
       "      <th>char</th>\n",
       "    </tr>\n",
       "    <tr>\n",
       "      <th>npartitions=2</th>\n",
       "      <th></th>\n",
       "      <th></th>\n",
       "      <th></th>\n",
       "      <th></th>\n",
       "      <th></th>\n",
       "      <th></th>\n",
       "      <th></th>\n",
       "      <th></th>\n",
       "      <th></th>\n",
       "      <th></th>\n",
       "      <th></th>\n",
       "      <th></th>\n",
       "      <th></th>\n",
       "      <th></th>\n",
       "    </tr>\n",
       "  </thead>\n",
       "  <tbody>\n",
       "    <tr>\n",
       "      <th></th>\n",
       "      <td>int64</td>\n",
       "      <td>int64</td>\n",
       "      <td>int64</td>\n",
       "      <td>int64</td>\n",
       "      <td>string</td>\n",
       "      <td>string</td>\n",
       "      <td>bool</td>\n",
       "      <td>bool</td>\n",
       "      <td>string</td>\n",
       "      <td>string</td>\n",
       "      <td>string</td>\n",
       "      <td>int64</td>\n",
       "      <td>string</td>\n",
       "      <td>string</td>\n",
       "    </tr>\n",
       "    <tr>\n",
       "      <th></th>\n",
       "      <td>...</td>\n",
       "      <td>...</td>\n",
       "      <td>...</td>\n",
       "      <td>...</td>\n",
       "      <td>...</td>\n",
       "      <td>...</td>\n",
       "      <td>...</td>\n",
       "      <td>...</td>\n",
       "      <td>...</td>\n",
       "      <td>...</td>\n",
       "      <td>...</td>\n",
       "      <td>...</td>\n",
       "      <td>...</td>\n",
       "      <td>...</td>\n",
       "    </tr>\n",
       "    <tr>\n",
       "      <th></th>\n",
       "      <td>...</td>\n",
       "      <td>...</td>\n",
       "      <td>...</td>\n",
       "      <td>...</td>\n",
       "      <td>...</td>\n",
       "      <td>...</td>\n",
       "      <td>...</td>\n",
       "      <td>...</td>\n",
       "      <td>...</td>\n",
       "      <td>...</td>\n",
       "      <td>...</td>\n",
       "      <td>...</td>\n",
       "      <td>...</td>\n",
       "      <td>...</td>\n",
       "    </tr>\n",
       "  </tbody>\n",
       "</table>\n",
       "</div>\n",
       "<div>Dask Name: drop_by_shallow_copy, 21 graph layers</div>"
      ],
      "text/plain": [
       "Dask DataFrame Structure:\n",
       "                  id product_id rating   date summary    body recommend reported reviewer_name reviewer_email response helpfulness  photos    char\n",
       "npartitions=2                                                                                                                                     \n",
       "               int64      int64  int64  int64  string  string      bool     bool        string         string   string       int64  string  string\n",
       "                 ...        ...    ...    ...     ...     ...       ...      ...           ...            ...      ...         ...     ...     ...\n",
       "                 ...        ...    ...    ...     ...     ...       ...      ...           ...            ...      ...         ...     ...     ...\n",
       "Dask Name: drop_by_shallow_copy, 21 graph layers"
      ]
     },
     "execution_count": 11,
     "metadata": {},
     "output_type": "execute_result"
    }
   ],
   "source": [
    "reviewsMergedWithPhotosAndChar"
   ]
  },
  {
   "cell_type": "code",
   "execution_count": 12,
   "id": "40833967-c33f-4974-89bb-b066e5bf566b",
   "metadata": {},
   "outputs": [],
   "source": [
    "empty = json.dumps([])\n",
    "reviewsMergedWithPhotosAndChar = reviewsMergedWithPhotosAndChar.fillna(value={\"photos\":empty})"
   ]
  },
  {
   "cell_type": "code",
   "execution_count": 13,
   "id": "b662f0a7-4cb5-4d32-a918-ea6bf92369e1",
   "metadata": {},
   "outputs": [
    {
     "data": {
      "text/plain": [
       "['/Users/Chris/hackreactor/Python/Final/FINAL.csv/0.part',\n",
       " '/Users/Chris/hackreactor/Python/Final/FINAL.csv/1.part']"
      ]
     },
     "execution_count": 13,
     "metadata": {},
     "output_type": "execute_result"
    }
   ],
   "source": [
    "reviewsMergedWithPhotosAndChar.compute()\n",
    "reviewsMergedWithPhotosAndChar.to_csv('FINAL.csv', index=False)"
   ]
  }
 ],
 "metadata": {
  "kernelspec": {
   "display_name": "Python 3 (ipykernel)",
   "language": "python",
   "name": "python3"
  },
  "language_info": {
   "codemirror_mode": {
    "name": "ipython",
    "version": 3
   },
   "file_extension": ".py",
   "mimetype": "text/x-python",
   "name": "python",
   "nbconvert_exporter": "python",
   "pygments_lexer": "ipython3",
   "version": "3.11.7"
  }
 },
 "nbformat": 4,
 "nbformat_minor": 5
}
