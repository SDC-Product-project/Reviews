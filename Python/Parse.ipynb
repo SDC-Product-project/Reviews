{
 "cells": [
  {
   "cell_type": "code",
   "execution_count": 9,
   "id": "8df0770e-1df2-4ad6-b57d-14056bc3df66",
   "metadata": {},
   "outputs": [
    {
     "data": {
      "text/html": [
       "<div>\n",
       "<style scoped>\n",
       "    .dataframe tbody tr th:only-of-type {\n",
       "        vertical-align: middle;\n",
       "    }\n",
       "\n",
       "    .dataframe tbody tr th {\n",
       "        vertical-align: top;\n",
       "    }\n",
       "\n",
       "    .dataframe thead th {\n",
       "        text-align: right;\n",
       "    }\n",
       "</style>\n",
       "<table border=\"1\" class=\"dataframe\">\n",
       "  <thead>\n",
       "    <tr style=\"text-align: right;\">\n",
       "      <th></th>\n",
       "      <th>review_id</th>\n",
       "      <th>url</th>\n",
       "    </tr>\n",
       "  </thead>\n",
       "  <tbody>\n",
       "    <tr>\n",
       "      <th>0</th>\n",
       "      <td>5</td>\n",
       "      <td>['https://images.unsplash.com/photo-1560570803...</td>\n",
       "    </tr>\n",
       "    <tr>\n",
       "      <th>1</th>\n",
       "      <td>9</td>\n",
       "      <td>['https://images.unsplash.com/photo-1542574621...</td>\n",
       "    </tr>\n",
       "    <tr>\n",
       "      <th>2</th>\n",
       "      <td>10</td>\n",
       "      <td>['https://images.unsplash.com/photo-1560829675...</td>\n",
       "    </tr>\n",
       "    <tr>\n",
       "      <th>3</th>\n",
       "      <td>15</td>\n",
       "      <td>['https://images.unsplash.com/photo-1519689373...</td>\n",
       "    </tr>\n",
       "    <tr>\n",
       "      <th>4</th>\n",
       "      <td>17</td>\n",
       "      <td>['https://images.unsplash.com/photo-1449505278...</td>\n",
       "    </tr>\n",
       "    <tr>\n",
       "      <th>5</th>\n",
       "      <td>18</td>\n",
       "      <td>['https://images.unsplash.com/photo-1529108750...</td>\n",
       "    </tr>\n",
       "    <tr>\n",
       "      <th>6</th>\n",
       "      <td>20</td>\n",
       "      <td>['https://images.unsplash.com/photo-1526948128...</td>\n",
       "    </tr>\n",
       "    <tr>\n",
       "      <th>7</th>\n",
       "      <td>23</td>\n",
       "      <td>['https://images.unsplash.com/photo-1550188053...</td>\n",
       "    </tr>\n",
       "    <tr>\n",
       "      <th>8</th>\n",
       "      <td>25</td>\n",
       "      <td>['https://images.unsplash.com/photo-1529108750...</td>\n",
       "    </tr>\n",
       "    <tr>\n",
       "      <th>9</th>\n",
       "      <td>26</td>\n",
       "      <td>['https://images.unsplash.com/photo-1517720359...</td>\n",
       "    </tr>\n",
       "  </tbody>\n",
       "</table>\n",
       "</div>"
      ],
      "text/plain": [
       "   review_id                                                url\n",
       "0          5  ['https://images.unsplash.com/photo-1560570803...\n",
       "1          9  ['https://images.unsplash.com/photo-1542574621...\n",
       "2         10  ['https://images.unsplash.com/photo-1560829675...\n",
       "3         15  ['https://images.unsplash.com/photo-1519689373...\n",
       "4         17  ['https://images.unsplash.com/photo-1449505278...\n",
       "5         18  ['https://images.unsplash.com/photo-1529108750...\n",
       "6         20  ['https://images.unsplash.com/photo-1526948128...\n",
       "7         23  ['https://images.unsplash.com/photo-1550188053...\n",
       "8         25  ['https://images.unsplash.com/photo-1529108750...\n",
       "9         26  ['https://images.unsplash.com/photo-1517720359..."
      ]
     },
     "execution_count": 9,
     "metadata": {},
     "output_type": "execute_result"
    }
   ],
   "source": [
    "import pandas as pd\n",
    "import dask.dataframe as dd\n",
    "photosFile = 'photos_joined_as_arrays.csv'\n",
    "photos = dd.read_csv(photosFile, blocksize=2500e6)\n",
    "photos.head(10)"
   ]
  },
  {
   "cell_type": "code",
   "execution_count": 10,
   "id": "a311c867-172c-4385-9077-51a75a0e6bf1",
   "metadata": {},
   "outputs": [],
   "source": [
    "photos.to_csv('Output.csv', index=False, chunksize=None);"
   ]
  },
  {
   "cell_type": "code",
   "execution_count": 11,
   "id": "e251c7f8-cec7-45dd-95b3-aa12aedfe397",
   "metadata": {},
   "outputs": [
    {
     "data": {
      "text/plain": [
       "dask.dataframe.core.DataFrame"
      ]
     },
     "execution_count": 11,
     "metadata": {},
     "output_type": "execute_result"
    }
   ],
   "source": [
    "type(photos)"
   ]
  },
  {
   "cell_type": "code",
   "execution_count": null,
   "id": "e58cc280-bbe7-4d5e-a615-c012c52ae9c5",
   "metadata": {},
   "outputs": [],
   "source": [
    "def dumps(x):\n",
    "    return json.dumps(x)\n"
   ]
  }
 ],
 "metadata": {
  "kernelspec": {
   "display_name": "Python 3 (ipykernel)",
   "language": "python",
   "name": "python3"
  },
  "language_info": {
   "codemirror_mode": {
    "name": "ipython",
    "version": 3
   },
   "file_extension": ".py",
   "mimetype": "text/x-python",
   "name": "python",
   "nbconvert_exporter": "python",
   "pygments_lexer": "ipython3",
   "version": "3.11.7"
  }
 },
 "nbformat": 4,
 "nbformat_minor": 5
}
